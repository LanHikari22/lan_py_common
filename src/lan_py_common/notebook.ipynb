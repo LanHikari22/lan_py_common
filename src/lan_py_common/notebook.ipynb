{
 "cells": [
  {
   "cell_type": "code",
   "execution_count": null,
   "metadata": {},
   "outputs": [
    {
     "data": {
      "text/html": [
       "\n",
       "<style>\n",
       "  #altair-viz-c7c61e24fed5442f82be8a0fe9c74d95.vega-embed {\n",
       "    width: 100%;\n",
       "    display: flex;\n",
       "  }\n",
       "\n",
       "  #altair-viz-c7c61e24fed5442f82be8a0fe9c74d95.vega-embed details,\n",
       "  #altair-viz-c7c61e24fed5442f82be8a0fe9c74d95.vega-embed details summary {\n",
       "    position: relative;\n",
       "  }\n",
       "</style>\n",
       "<div id=\"altair-viz-c7c61e24fed5442f82be8a0fe9c74d95\"></div>\n",
       "<script type=\"text/javascript\">\n",
       "  var VEGA_DEBUG = (typeof VEGA_DEBUG == \"undefined\") ? {} : VEGA_DEBUG;\n",
       "  (function(spec, embedOpt){\n",
       "    let outputDiv = document.currentScript.previousElementSibling;\n",
       "    if (outputDiv.id !== \"altair-viz-c7c61e24fed5442f82be8a0fe9c74d95\") {\n",
       "      outputDiv = document.getElementById(\"altair-viz-c7c61e24fed5442f82be8a0fe9c74d95\");\n",
       "    }\n",
       "\n",
       "    const paths = {\n",
       "      \"vega\": \"https://cdn.jsdelivr.net/npm/vega@5?noext\",\n",
       "      \"vega-lib\": \"https://cdn.jsdelivr.net/npm/vega-lib?noext\",\n",
       "      \"vega-lite\": \"https://cdn.jsdelivr.net/npm/vega-lite@5.20.1?noext\",\n",
       "      \"vega-embed\": \"https://cdn.jsdelivr.net/npm/vega-embed@6?noext\",\n",
       "    };\n",
       "\n",
       "    function maybeLoadScript(lib, version) {\n",
       "      var key = `${lib.replace(\"-\", \"\")}_version`;\n",
       "      return (VEGA_DEBUG[key] == version) ?\n",
       "        Promise.resolve(paths[lib]) :\n",
       "        new Promise(function(resolve, reject) {\n",
       "          var s = document.createElement('script');\n",
       "          document.getElementsByTagName(\"head\")[0].appendChild(s);\n",
       "          s.async = true;\n",
       "          s.onload = () => {\n",
       "            VEGA_DEBUG[key] = version;\n",
       "            return resolve(paths[lib]);\n",
       "          };\n",
       "          s.onerror = () => reject(`Error loading script: ${paths[lib]}`);\n",
       "          s.src = paths[lib];\n",
       "        });\n",
       "    }\n",
       "\n",
       "    function showError(err) {\n",
       "      outputDiv.innerHTML = `<div class=\"error\" style=\"color:red;\">${err}</div>`;\n",
       "      throw err;\n",
       "    }\n",
       "\n",
       "    function displayChart(vegaEmbed) {\n",
       "      vegaEmbed(outputDiv, spec, embedOpt)\n",
       "        .catch(err => showError(`Javascript Error: ${err.message}<br>This usually means there's a typo in your chart specification. See the javascript console for the full traceback.`));\n",
       "    }\n",
       "\n",
       "    if(typeof define === \"function\" && define.amd) {\n",
       "      requirejs.config({paths});\n",
       "      let deps = [\"vega-embed\"];\n",
       "      require(deps, displayChart, err => showError(`Error loading script: ${err.message}`));\n",
       "    } else {\n",
       "      maybeLoadScript(\"vega\", \"5\")\n",
       "        .then(() => maybeLoadScript(\"vega-lite\", \"5.20.1\"))\n",
       "        .then(() => maybeLoadScript(\"vega-embed\", \"6\"))\n",
       "        .catch(showError)\n",
       "        .then(() => displayChart(vegaEmbed));\n",
       "    }\n",
       "  })({\"config\": {\"view\": {\"continuousWidth\": 300, \"continuousHeight\": 300}}, \"data\": {\"name\": \"data-13b5a830434ab59b1d3ae24482821d5a\"}, \"mark\": {\"type\": \"point\"}, \"encoding\": {\"x\": {\"field\": \"x\", \"title\": \"PetalWidthCm\", \"type\": \"quantitative\"}, \"y\": {\"field\": \"y\", \"title\": \"PetalLengthCm\", \"type\": \"quantitative\"}}, \"$schema\": \"https://vega.github.io/schema/vega-lite/v5.20.1.json\", \"datasets\": {\"data-13b5a830434ab59b1d3ae24482821d5a\": [{\"x\": 0.1, \"y\": 8.5}, {\"x\": 0.2, \"y\": 40.4}, {\"x\": 0.3, \"y\": 10.0}, {\"x\": 0.4, \"y\": 11.0}, {\"x\": 0.5, \"y\": 1.7}, {\"x\": 0.6, \"y\": 1.6}, {\"x\": 1.0, \"y\": 25.4}, {\"x\": 1.1, \"y\": 10.7}, {\"x\": 1.2, \"y\": 21.2}, {\"x\": 1.3, \"y\": 54.3}, {\"x\": 1.4, \"y\": 37.1}, {\"x\": 1.5, \"y\": 55.9}, {\"x\": 1.6, \"y\": 20.1}, {\"x\": 1.7, \"y\": 9.5}, {\"x\": 1.8, \"y\": 64.0}, {\"x\": 1.9, \"y\": 26.599999999999998}, {\"x\": 2.0, \"y\": 33.3}, {\"x\": 2.1, \"y\": 34.7}, {\"x\": 2.2, \"y\": 18.1}, {\"x\": 2.3, \"y\": 45.6}, {\"x\": 2.4, \"y\": 16.299999999999997}, {\"x\": 2.5, \"y\": 17.8}]}}, {\"mode\": \"vega-lite\"});\n",
       "</script>"
      ],
      "text/plain": [
       "alt.Chart(...)"
      ]
     },
     "execution_count": 14,
     "metadata": {},
     "output_type": "execute_result"
    }
   ],
   "source": [
    "from lan_py_common.lib import *\n",
    "from IPython.display import display, Math\n",
    "\n",
    "df = Df.from_schema_and_csv(\n",
    "    DfJsonSchema.from_dict({\n",
    "        'ty': 'Iris',\n",
    "        'Id': 'float',\n",
    "        'SepalLengthCm': 'float',\n",
    "        'SepalWidthCm': 'float',\n",
    "        'PetalLengthCm': 'float',\n",
    "        'PetalWidthCm': 'float',\n",
    "        'Species': 'str',\n",
    "    }).unwrap(),\n",
    "    '~/data/kaggle/datasets/uciml/iris/Iris.csv'\n",
    ").unwrap()\n",
    "\n",
    "alt_scatter2(*to_scatter2_df(df, \"Id\", \"PetalLengthCm\").unwrap(), \"sum\")\n",
    "# alt_colored_scatter2(*to_labeled_scatter2_df(df, \"SepalLengthCm\", \"SepalWidthCm\", \"Species\").unwrap(), \"sum\")"
   ]
  }
 ],
 "metadata": {
  "kernelspec": {
   "display_name": "base",
   "language": "python",
   "name": "python3"
  },
  "language_info": {
   "codemirror_mode": {
    "name": "ipython",
    "version": 3
   },
   "file_extension": ".py",
   "mimetype": "text/x-python",
   "name": "python",
   "nbconvert_exporter": "python",
   "pygments_lexer": "ipython3",
   "version": "3.12.2"
  }
 },
 "nbformat": 4,
 "nbformat_minor": 2
}
