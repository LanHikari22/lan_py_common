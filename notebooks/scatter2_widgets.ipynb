{
 "cells": [
  {
   "cell_type": "code",
   "execution_count": null,
   "metadata": {},
   "outputs": [
    {
     "data": {
      "application/vnd.jupyter.widget-view+json": {
       "model_id": "f9dd315b200d4b33b40ffb664f2108f7",
       "version_major": 2,
       "version_minor": 0
      },
      "text/plain": [
       "VBox(children=(HBox(children=(FloatSlider(value=2.3, description='m', max=5.0), FloatSlider(value=5.4, descrip…"
      ]
     },
     "metadata": {},
     "output_type": "display_data"
    },
    {
     "data": {
      "application/vnd.jupyter.widget-view+json": {
       "model_id": "0e8f383d6ed64a6e834bb9c718baa616",
       "version_major": 2,
       "version_minor": 0
      },
      "text/plain": [
       "Output()"
      ]
     },
     "metadata": {},
     "output_type": "display_data"
    }
   ],
   "source": [
    "import numpy as np\n",
    "import ipywidgets as widgets\n",
    "from IPython.display import display\n",
    "from lan_py_common.lib import *\n",
    "\n",
    "xs = np.linspace(0, 10, 100)\n",
    "\n",
    "def plot_func(m: float, b: float, label: str, toggle: bool):\n",
    "    df = Df.from_schema_and_data(\n",
    "        DfJsonSchema.from_dict({\n",
    "            'ty': 'Func',\n",
    "            'x': 'float',\n",
    "            'y': 'float',\n",
    "        }).unwrap(),\n",
    "        {\n",
    "            'x': xs,\n",
    "            'y': m * xs + b\n",
    "        }\n",
    "    ).unwrap()\n",
    "\n",
    "    plot_df = to_scatter2_df(df, 'x', 'y').unwrap()\n",
    "    if toggle:\n",
    "        mpl_scatter2(plot_df, groupby_method='mean', polyfit=10, opt_title=label)\n",
    "\n",
    "widg = {\n",
    "    'm': widgets.FloatSlider(value=2.3, min=0.0, max=5.0, step=0.1, description='m', continuous_update=True),\n",
    "    'b': widgets.FloatSlider(value=5.4, min=0.0, max=10.0, step=0.1, description='b', continuous_update=True),\n",
    "    'label': widgets.Text(value='Text', description='Label'),\n",
    "    'toggle': widgets.Checkbox(value=True, description='Show')\n",
    "}\n",
    "\n",
    "mpl_with_widgets(plot_func, widg)"
   ]
  }
 ],
 "metadata": {
  "kernelspec": {
   "display_name": "base",
   "language": "python",
   "name": "python3"
  },
  "language_info": {
   "codemirror_mode": {
    "name": "ipython",
    "version": 3
   },
   "file_extension": ".py",
   "mimetype": "text/x-python",
   "name": "python",
   "nbconvert_exporter": "python",
   "pygments_lexer": "ipython3",
   "version": "3.12.2"
  }
 },
 "nbformat": 4,
 "nbformat_minor": 2
}
